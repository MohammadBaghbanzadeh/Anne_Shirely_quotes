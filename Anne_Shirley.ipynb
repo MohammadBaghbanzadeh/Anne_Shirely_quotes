{
  "nbformat": 4,
  "nbformat_minor": 0,
  "metadata": {
    "colab": {
      "provenance": [],
      "mount_file_id": "1Cna6Md7QumDXh_TJNyFruub3TtsjPKLv",
      "authorship_tag": "ABX9TyNWfSdqHazeEyfJTmZe6CuV",
      "include_colab_link": true
    },
    "kernelspec": {
      "name": "python3",
      "display_name": "Python 3"
    },
    "language_info": {
      "name": "python"
    }
  },
  "cells": [
    {
      "cell_type": "markdown",
      "metadata": {
        "id": "view-in-github",
        "colab_type": "text"
      },
      "source": [
        "<a href=\"https://colab.research.google.com/github/MohammadBaghbanzadeh/Anne_Shirley_Quotes/blob/main/Anne_Shirley.ipynb\" target=\"_parent\"><img src=\"https://colab.research.google.com/assets/colab-badge.svg\" alt=\"Open In Colab\"/></a>"
      ]
    },
    {
      "cell_type": "markdown",
      "source": [
        "# **Bing Crawler**"
      ],
      "metadata": {
        "id": "FGkVtoBqi9r7"
      }
    },
    {
      "cell_type": "code",
      "execution_count": 38,
      "metadata": {
        "id": "HXY6yMBwfeBe"
      },
      "outputs": [],
      "source": [
        "import argparse\n",
        "import hashlib\n",
        "import imghdr\n",
        "from os import makedirs\n",
        "from os.path import exists, join, splitext\n",
        "import pickle\n",
        "import posixpath\n",
        "import re\n",
        "import signal\n",
        "import socket\n",
        "import threading\n",
        "import time\n",
        "from urllib.parse import quote, quote_plus, urlsplit, urlunsplit\n",
        "from urllib.request import Request, urlopen\n",
        "from io import BytesIO\n",
        "import random\n",
        "import sys\n",
        "import pickle\n",
        "import uuid"
      ]
    },
    {
      "cell_type": "code",
      "source": [
        "# config\n",
        "socket.setdefaulttimeout(2)"
      ],
      "metadata": {
        "id": "SxpvzRnshR5y"
      },
      "execution_count": 39,
      "outputs": []
    },
    {
      "cell_type": "markdown",
      "source": [
        "To manage concurrent processes, we need to\n",
        "    synchronize these variables in all functions, \n",
        "    so we define them as global variables."
      ],
      "metadata": {
        "id": "cpMbn_UwjNdh"
      }
    },
    {
      "cell_type": "code",
      "source": [
        "output_dir = '/content/drive/MyDrive/Crawled_Imgaes'  # default output dir\n",
        "seen_links = []\n",
        "md5_of_images = {}\n",
        "in_progress_threads = 0"
      ],
      "metadata": {
        "id": "4aNQ--WlhaPs"
      },
      "execution_count": 48,
      "outputs": []
    },
    {
      "cell_type": "markdown",
      "source": [
        "The key is 'User-Agent' and its value is a string that\n",
        "    represents the user agent for a web browser."
      ],
      "metadata": {
        "id": "NNQ1Qd9AjUW-"
      }
    },
    {
      "cell_type": "code",
      "source": [
        "url_header = {\n",
        "    'User-Agent':'Mozilla/5.0 (X11; Linux x86_64; rv:88.0) Gecko/20100101 Firefox/88.0'\n",
        "}"
      ],
      "metadata": {
        "id": "HyM37VRVhdAM"
      },
      "execution_count": 49,
      "outputs": []
    },
    {
      "cell_type": "markdown",
      "source": [
        "Encoding URL\n",
        "\n",
        "    URL encoding helps to ensure that URLs \n",
        "    are properly formatted and can be correctly \n",
        "    interpreted by web servers and browsers"
      ],
      "metadata": {
        "id": "kGT_POIjksun"
      }
    },
    {
      "cell_type": "code",
      "source": [
        "def url_encoder(url):\n",
        "    scheme, netloc, path, query, fragment = list(urlsplit(url))\n",
        "    \n",
        "    path = quote(path)\n",
        "    query = quote_plus(path)\n",
        "    fragment = quote(fragment)\n",
        "    \n",
        "    return urlunsplit((shceme, netloc, path, query, fragment))"
      ],
      "metadata": {
        "id": "g9D__6xnhe-7"
      },
      "execution_count": 50,
      "outputs": []
    },
    {
      "cell_type": "code",
      "source": [
        "def download(number_sema: threading.Semaphore, resource_sema: threading.Semaphore, url: str, output_dir: str, limit: int):\n",
        "    global seen_links\n",
        "    global md5_of_images\n",
        "    global in_progress_threads\n",
        "    global url_header\n",
        "\n",
        "    if url in seen_links:\n",
        "        # print('SKIP: Already checked url, skipping')\n",
        "        return\n",
        "\n",
        "    # Acquire the lock for the number_sema semaphore to limit the number of concurrent downloads\n",
        "    number_sema.acquire()\n",
        "\n",
        "    in_progress_threads += 1\n",
        "    \n",
        "    # Initialize a flag to keep track of whether the resource_sema semaphore has been acquired or not\n",
        "    acquired_resource_sema = False\n",
        "\n",
        "    path = urlsplit(url).path\n",
        "\n",
        "    # Extracts the filename and extension from the URL path\n",
        "    name, ext = splitext(posixpath.basename(path))\n",
        "    \n",
        "    # If there is no file name in the URL path, generate a random unique identifier to use as the file name\n",
        "    if not name:\n",
        "        # if path and name are empty (e.g. https://sample.domain/abcd/?query)\n",
        "        name = str(uuid.uuid4())\n",
        "    else:\n",
        "        # Remove any leading or trailing whitespace characters from the file name\n",
        "        name = name.strip()\n",
        "\n",
        "    \"\"\"\n",
        "    instead of going to \n",
        "                        \"www.ñandu.com\", \n",
        "    we go to \n",
        "                        \"www.nandu.com\" \n",
        "    instead, by the following code:\n",
        "    \"\"\"  \n",
        "    try:\n",
        "        url.encode('ascii')\n",
        "    except UnicodeEncodeError:  # the url contains non-ascii characters\n",
        "        url = url_encoder(url)\n",
        "\n",
        "    \n",
        "\n",
        "    try:\n",
        "        request = Request(url, None, url_header)\n",
        "        image = urlopen(request).read()\n",
        "        \n",
        "        # Identify the type of the image stored as bytes in a BytesIO object using imghdr module\n",
        "        # and assign the detected image type to the image_type variable.\n",
        "        imgtype = imghdr.what(BytesIO(image), image)\n",
        "        \n",
        "        if not imgtype:\n",
        "            # print('SKIP: Invalid image, not saving ' + name)\n",
        "            return\n",
        "\n",
        "        # Attach a file extension based on an image header\n",
        "        if not ext:\n",
        "            ext = 'jpg' if imgtype == 'jpeg' else imgtype\n",
        "\n",
        "        filename = name + '.' + ext\n",
        "\n",
        "        if hashlib.md5(image).hexdigest() in md5_of_images:\n",
        "            # print('SKIP: Image is a duplicate, not saving ' + filename)\n",
        "            return\n",
        "\n",
        "        \n",
        "        # Check if file with same name already exists in output directory\n",
        "        i = 0\n",
        "        while exists(join(output_dir, filename)):\n",
        "            # If file exists, increment index and update filename\n",
        "            i += 1\n",
        "            filename = str(name) + \"-\" + str(index) + \".\" + str(ext)\n",
        "\n",
        "        # Updating the dictionary and adding name of the file which is created\n",
        "        md5_of_images[hashlib.md5(image).hexdigest()] = filename\n",
        "\n",
        "        resource_sema.acquire()\n",
        "        acquired_resource_sema = True\n",
        "\n",
        "        # Stop crawling if we achieved the number of images we wanted.\n",
        "        # and also stop crawling if there is no limit for crawling.\n",
        "        if limit is not None and len(seen_links) >= limit:\n",
        "            return\n",
        "\n",
        "        with open(join(output_dir, filename), 'wb') as file:\n",
        "            file.write(image)\n",
        "\n",
        "        print(\" OK : \" + filename)\n",
        "        seen_links.append(url)\n",
        "    except Exception as e:\n",
        "        print(\"FAIL: \" + name, str(e))\n",
        "    finally:\n",
        "        number_sema.release()\n",
        "        if acquired_resource_sema:\n",
        "            resource_sema.release()\n",
        "        in_progress_threads -= 1\n"
      ],
      "metadata": {
        "id": "UUwXhSX5hl9c"
      },
      "execution_count": 51,
      "outputs": []
    },
    {
      "cell_type": "code",
      "source": [
        "def images_searched_by_keyword(number_sema: threading.Semaphore, resource_sema: threading.Semaphore, keyword: str,\n",
        "                            output_dir: str, filters: str, limit: int):\n",
        "    global seen_links\n",
        "    global md5_of_images\n",
        "    global in_progress_threads\n",
        "    global url_header\n",
        "    current = 1\n",
        "    last = ''\n",
        "    while True:\n",
        "        time.sleep(0.1)\n",
        "\n",
        "        request_url = 'https://www.bing.com/images/async?q=' + quote_plus(keyword) + '&first=' + str(\n",
        "            current) + '&count=35&qft=' + ('' if filters is None else filters)\n",
        "        request = Request(request_url, None, headers=url_header)\n",
        "        response = urlopen(request)\n",
        "        html = response.read().decode('utf8')\n",
        "        links = re.findall('murl&quot;:&quot;(.*?)&quot;', html)\n",
        "        try:\n",
        "            if links[-1] == last:\n",
        "                return\n",
        "            for index, link in enumerate(links):\n",
        "                if limit is not None and len(seen_links) >= limit:\n",
        "                    exit(0)\n",
        "                t = threading.Thread(target=download, args=(number_sema, resource_sema, link, output_dir, limit))\n",
        "                t.start()\n",
        "                current += 1\n",
        "            last = links[-1]\n",
        "        except IndexError:\n",
        "            print('FAIL: No search results for \"{0}\"'.format(keyword))\n",
        "            return"
      ],
      "metadata": {
        "id": "qB8ebH2UiJJG"
      },
      "execution_count": 52,
      "outputs": []
    },
    {
      "cell_type": "code",
      "source": [
        "def backup_history(*args):\n",
        "    global output_dir\n",
        "    global seen_links\n",
        "    global md5_of_images\n",
        "    global in_progress_threads\n",
        "    global url_header\n",
        "    download_history = open(join(output_dir, 'download_history.pickle'), 'wb')\n",
        "    pickle.dump(seen_links, download_history)\n",
        "    copied_md5_of_images = dict(\n",
        "        md5_of_images)  # We are working with the copy, because length of input variable for pickle must not be changed during dumping\n",
        "    pickle.dump(copied_md5_of_images, download_history)\n",
        "    download_history.close()\n",
        "    print('history_dumped')\n",
        "    if args:\n",
        "        exit(0)"
      ],
      "metadata": {
        "id": "fqZk6XYuiLDq"
      },
      "execution_count": 53,
      "outputs": []
    },
    {
      "cell_type": "code",
      "source": [
        "def Bing_Crawler(keyword: str):\n",
        "    global output_dir\n",
        "    global seen_links\n",
        "    global md5_of_images\n",
        "    global url_header\n",
        "    \n",
        "    # Define default values\n",
        "    number_of_threads = 20\n",
        "    large_image_filter = \"+filterui:imagesize-large\"\n",
        "    filters = ''\n",
        "    limit = None\n",
        "    \n",
        "    # Get input values from user\n",
        "    search_string = keyword\n",
        "    \n",
        "    # Set up file paths and directories\n",
        "    if not exists(output_dir):\n",
        "        makedirs(output_dir)\n",
        "    output_sub_dir = join(output_dir, search_string.strip().replace(' ', '_'))\n",
        "    if not exists(output_sub_dir):\n",
        "        makedirs(output_sub_dir)\n",
        "        \n",
        "    # Load previous download history\n",
        "    try:\n",
        "        download_history = open(join(output_dir, 'download_history.pickle'), 'rb')\n",
        "        seen_links = pickle.load(download_history)\n",
        "        md5_of_images = pickle.load(download_history)\n",
        "        download_history.close()\n",
        "    except (OSError, IOError):\n",
        "        seen_links = []\n",
        "        \n",
        "    # Set up semaphores for threading\n",
        "    number_sema = threading.BoundedSemaphore(number_of_threads)\n",
        "    resource_sema = threading.Semaphore()\n",
        "    \n",
        "    # Search for images using the specified keyword and filters\n",
        "    images_searched_by_keyword(number_sema, resource_sema, search_string, output_sub_dir, filters, limit)\n",
        "    \n",
        "    # Save download history\n",
        "    backup_history()"
      ],
      "metadata": {
        "id": "Iiv17MtLiM9q"
      },
      "execution_count": 54,
      "outputs": []
    },
    {
      "cell_type": "code",
      "source": [
        "# query = input(\"Enter the sentence you want to have that images: \")\n",
        "query = \"Anne shirley quotes\"\n",
        "Bing_Crawler(query)"
      ],
      "metadata": {
        "id": "KAY1uspLiPKC",
        "colab": {
          "base_uri": "https://localhost:8080/"
        },
        "outputId": "131695b2-c496-494b-d0a1-e3a819002f88"
      },
      "execution_count": 55,
      "outputs": [
        {
          "output_type": "stream",
          "name": "stdout",
          "text": [
            " OK : 2370767-Anne-Shirley-Quote-We-can-t-always-take-the-most-obvious-road-in..jpg\n",
            " OK : 1515943-Anne-Shirley-Quote-I-went-looking-for-my-dreams-outside-of-myself..jpg\n",
            " OK : 1912837-Anne-Shirley-Quote-I-went-looking-for-my-dreams-outside-of-myself..jpg\n",
            " OK : 2456136-Anne-Shirley-Quote-Just-as-soon-as-you-attain-to-one-ambition-you..jpg\n",
            " OK : 5104670-Anne-Shirley-Quote-Oh-I-know-I-ll-improve-It-s-just-that-my-life..jpg\n",
            " OK : 2990328-Anne-Shirley-Quote-But-if-you-only-knew-how-many-things-I-want-to..jpg\n",
            " OK : 2297757-Anne-Shirley-Quote-I-went-looking-for-my-dreams-outside-of-myself..jpg\n",
            " OK : 1912838-Anne-Shirley-Quote-I-went-looking-for-my-dreams-outside-of-myself..jpg\n",
            " OK : 4716328-Anne-Shirley-Quote-I-went-looking-for-my-dreams-outside-of-myself..jpg\n",
            " OK : 5104669-Anne-Shirley-Quote-Oh-I-know-I-ll-improve-It-s-just-that-my-life..jpg\n",
            " OK : 2297753-Anne-Shirley-Quote-I-went-looking-for-my-dreams-outside-of-myself..jpg\n",
            " OK : 4716327-Anne-Shirley-Quote-I-went-looking-for-my-dreams-outside-of-myself..jpg\n",
            " OK : quote-i-went-looking-for-my-dreams-outside-of-myself-and-discovered-it-s-not-what-the-world-anne-shirley-62-90-52..jpg\n",
            " OK : 1515960-Anne-Shirley-Quote-November-is-usually-such-a-disagreeable-month..jpg\n",
            " OK : 1515942-Anne-Shirley-Quote-We-can-t-always-take-the-most-obvious-road-in..jpg\n",
            " OK : 1515947-Anne-Shirley-Quote-Just-as-soon-as-you-attain-to-one-ambition-you..jpg\n",
            " OK : 5463835-Anne-Shirley-Quote-It-does-people-good-to-have-to-do-things-they..jpg\n",
            " OK : 4626912-Anne-Shirley-Quote-November-is-usually-such-a-disagreeable-month..jpg\n",
            " OK : 5038636-Anne-Shirley-Quote-But-if-you-only-knew-how-many-things-I-want-to..jpg\n",
            " OK : il_1588xN.1949632316_eiqb..jpg\n",
            " OK : 2456134-Anne-Shirley-Quote-Just-as-soon-as-you-attain-to-one-ambition-you..jpg\n",
            " OK : 2297754-Anne-Shirley-Quote-I-went-looking-for-my-dreams-outside-of-myself..jpg\n",
            " OK : 1515962-Anne-Shirley-Quote-It-does-people-good-to-have-to-do-things-they..jpg\n",
            " OK : 4792933-Anne-Shirley-Quote-We-can-t-always-take-the-most-obvious-road-in..jpg\n",
            " OK : 4626908-Anne-Shirley-Quote-It-does-people-good-to-have-to-do-things-they..jpg\n",
            " OK : dee8411e19064b1a9b233415eddf6fc6..jpg\n",
            " OK : 71c4cdafe8bbd1e079f85c00232b253d..jpg\n",
            " OK : 6313246-Anne-Shirley-Quote-No-matter-where-I-go-or-how-I-change-I-ll..jpg\n",
            "FAIL: 1912837-Anne-Shirley-Quote-I-went-looking-for-my-dreams-outside-of-myself name 'index' is not defined\n",
            " OK : 6313245-Anne-Shirley-Quote-No-matter-where-I-go-or-how-I-change-I-ll..jpg\n",
            " OK : 4626915-Anne-Shirley-Quote-No-matter-where-I-go-or-how-I-change-I-ll..jpg\n",
            " OK : 4ce0aaf4e8707e0f531e8e0de41614c4..jpg\n",
            "FAIL: 1515942-Anne-Shirley-Quote-We-can-t-always-take-the-most-obvious-road-in name 'index' is not defined\n",
            " OK : 50235d8412de7210d20721d2b9148d9f..jpg\n",
            "FAIL: 1912838-Anne-Shirley-Quote-I-went-looking-for-my-dreams-outside-of-myself name 'index' is not defined\n",
            " OK : 4ac375a0e23d0b6345423cb733e641d7..jpg\n",
            " OK : 843495206-1abd8d964833ad7258f14d97a38d60cf..jpg\n",
            " OK : 2370766-Anne-Shirley-Quote-We-can-t-always-take-the-most-obvious-road-in..jpg\n",
            "FAIL: 2370767-Anne-Shirley-Quote-We-can-t-always-take-the-most-obvious-road-in name 'index' is not defined\n",
            " OK : 1912836-Anne-Shirley-Quote-I-went-looking-for-my-dreams-outside-of-myself..jpg\n",
            " OK : 4626768-Anne-Shirley-Quote-Oh-I-know-I-ll-improve-It-s-just-that-my-life..jpg\n",
            " OK : 4626909-Anne-Shirley-Quote-It-does-people-good-to-have-to-do-things-they..jpg\n",
            " OK : 4626911-Anne-Shirley-Quote-November-is-usually-such-a-disagreeable-month..jpg\n",
            "FAIL: 1912836-Anne-Shirley-Quote-I-went-looking-for-my-dreams-outside-of-myself name 'index' is not defined\n",
            "FAIL: 2297754-Anne-Shirley-Quote-I-went-looking-for-my-dreams-outside-of-myself name 'index' is not defined\n",
            " OK : 2297755-Anne-Shirley-Quote-I-went-looking-for-my-dreams-outside-of-myself..jpg\n",
            " OK : 1912827-Anne-Shirley-Quote-Just-as-soon-as-you-attain-to-one-ambition-you..jpg\n",
            "FAIL: 5104670-Anne-Shirley-Quote-Oh-I-know-I-ll-improve-It-s-just-that-my-life name 'index' is not defined\n",
            " OK : 1515944-Anne-Shirley-Quote-I-went-looking-for-my-dreams-outside-of-myself..jpg\n",
            " OK : 1515951-Anne-Shirley-Quote-Oh-I-know-I-ll-improve-It-s-just-that-my-life..jpg\n",
            " OK : 6313219-Anne-Shirley-Quote-November-is-usually-such-a-disagreeable-month..jpg\n",
            " OK : 6313220-Anne-Shirley-Quote-November-is-usually-such-a-disagreeable-month..jpg\n",
            "FAIL: 1515960-Anne-Shirley-Quote-November-is-usually-such-a-disagreeable-month name 'index' is not defined\n",
            " OK : 1515957-Anne-Shirley-Quote-No-matter-where-I-go-or-how-I-change-I-ll..jpg\n",
            " OK : 1515948-Anne-Shirley-Quote-Just-as-soon-as-you-attain-to-one-ambition-you..jpg\n",
            " OK : 42963ea55b2e964995a480b8236db87d..jpg\n",
            " OK : il_fullxfull.1949632316_eiqb..jpg\n",
            " OK : 4983502-Anne-Shirley-Quote-Just-as-soon-as-you-attain-to-one-ambition-you..jpg\n",
            "FAIL: 1912836-Anne-Shirley-Quote-I-went-looking-for-my-dreams-outside-of-myself name 'index' is not defined\n",
            " OK : b47e153b8ef968749818d9aef71f5700..jpg\n",
            "FAIL: 4626912-Anne-Shirley-Quote-November-is-usually-such-a-disagreeable-month name 'index' is not defined\n",
            " OK : 4626910-Anne-Shirley-Quote-November-is-usually-such-a-disagreeable-month..jpg\n",
            " OK : 4626567-Anne-Shirley-Quote-I-can-t-eat-I-can-never-eat-when-I-m-in-the..jpg\n",
            " OK : fe95b8bb680fa715f93fe65813b6183a--anne-shirley-anne-of-green-gables..jpg\n",
            " OK : 4792934-Anne-Shirley-Quote-We-can-t-always-take-the-most-obvious-road-in..jpg\n",
            " OK : anne-of-green-gables-print-wall-art-quote-lm-montgomery-anne-shirley-quotes-book-lover-gifts-gift-olena-mishina-and-svitlana-ostrovska..jpg\n",
            "FAIL: 5038636-Anne-Shirley-Quote-But-if-you-only-knew-how-many-things-I-want-to name 'index' is not defined\n",
            " OK : 8061653c0436dcca9f40cdbb2092318c--anne-shirley-quotes-anne-of-green-gables..jpg\n",
            "FAIL: anne-shirley-phrases-tomorrow-hope-quotes-Favim.com-782704 <urlopen error [SSL: CERTIFICATE_VERIFY_FAILED] certificate verify failed: unable to get local issuer certificate (_ssl.c:1129)>\n",
            "FAIL: 2297757-Anne-Shirley-Quote-I-went-looking-for-my-dreams-outside-of-myself name 'index' is not defined\n",
            " OK : 4626913-Anne-Shirley-Quote-No-matter-where-I-go-or-how-I-change-I-ll..jpg\n",
            "FAIL: 4792933-Anne-Shirley-Quote-We-can-t-always-take-the-most-obvious-road-in name 'index' is not defined\n",
            "FAIL: 4716327-Anne-Shirley-Quote-I-went-looking-for-my-dreams-outside-of-myself name 'index' is not defined\n",
            " OK : 5463836-Anne-Shirley-Quote-It-does-people-good-to-have-to-do-things-they..jpg\n",
            " OK : bg,f8f8f8-flat,750x,075,f-pad,750x1000,f8f8f8..jpg\n",
            " OK : 2297756-Anne-Shirley-Quote-I-went-looking-for-my-dreams-outside-of-myself..jpg\n",
            " OK : 4626907-Anne-Shirley-Quote-It-does-people-good-to-have-to-do-things-they..jpg\n",
            " OK : 2370768-Anne-Shirley-Quote-We-can-t-always-take-the-most-obvious-road-in..jpg\n",
            " OK : 1912822-Anne-Shirley-Quote-No-matter-where-I-go-or-how-I-change-I-ll..jpg\n",
            " OK : 1515953-Anne-Shirley-Quote-I-had-the-most-beautiful-set-of-theories-you..jpg\n",
            " OK : 1912829-Anne-Shirley-Quote-Just-as-soon-as-you-attain-to-one-ambition-you..jpg\n",
            " OK : 5038635-Anne-Shirley-Quote-But-if-you-only-knew-how-many-things-I-want-to..jpg\n",
            "FAIL: 4792933-Anne-Shirley-Quote-We-can-t-always-take-the-most-obvious-road-in name 'index' is not defined\n",
            " OK : 1515941-Anne-Shirley-Quote-We-can-t-always-take-the-most-obvious-road-in..jpg\n",
            " OK : 1254710443-AnneofGreenGablesDearOldWorldPrintable..jpg\n",
            " OK : 4386fb7894eb5afc877a15fb437d393c..jpg\n",
            " OK : yellow-playful-line-happiness-quote-phone-wallpaper..png\n",
            " OK : 699689841-f1fce746e925308e4eb94bfcb1820b77..jpg\n",
            " OK : 4983501-Anne-Shirley-Quote-Just-as-soon-as-you-attain-to-one-ambition-you..jpg\n",
            " OK : 1515945-Anne-Shirley-Quote-I-just-love-bright-red-drinks..jpg\n",
            " OK : 4983501-Anne-Shirley-Quote-Just-as-soon-as-you-attain-to-one-ambition-you..jpg\n",
            " OK : 1912821-Anne-Shirley-Quote-No-matter-where-I-go-or-how-I-change-I-ll..jpg\n",
            " OK : il_794xN.860364261_n7bm..jpg\n",
            " OK : fca7b2f8c419832f082a3ac6b5029f5c..jpg\n",
            " OK : il_794xN.1599301938_fkny..jpg\n",
            " OK : 695f8738c6f7acbdb81f0729be36c4ff..jpg\n",
            " OK : il_794xN.1382863220_4weh..jpg\n",
            " OK : anne-shirley-quotes-2..jpg\n",
            " OK : 1837694460-Anne-Shirley-Quote..jpg\n",
            " OK : november-is-usually-such-a-disagreeable-month-as-if-the-year-had-suddenly-found-out-she-was-growing-quote-1..jpg\n",
            " OK : 2456135-Anne-Shirley-Quote-Just-as-soon-as-you-attain-to-one-ambition-you..jpg\n",
            " OK : 901735804-95ea0e3d0c14169af209b8b26048a531..jpg\n",
            " OK : a0143f4fcc88757291907534d10894f9..jpg\n",
            " OK : i-went-looking-for-my-dreams-outside-of-myself-and-discovered-its-not-what-the-world-holds-for-you-quote-1..jpg\n",
            "FAIL: 6313245-Anne-Shirley-Quote-No-matter-where-I-go-or-how-I-change-I-ll name 'index' is not defined\n",
            " OK : 4626914-Anne-Shirley-Quote-No-matter-where-I-go-or-how-I-change-I-ll..jpg\n",
            "FAIL: 4716327-Anne-Shirley-Quote-I-went-looking-for-my-dreams-outside-of-myself name 'index' is not defined\n",
            " OK : October%2BQuote%2BAnne%2BLM%2BMontgomery..jpg\n",
            " OK : 113b8df8a38c06fb02be25b56ec06100..jpg\n",
            " OK : we-cant-always-take-the-most-obvious-road-in-life-quote-1..jpg\n",
            " OK : i-had-the-most-beautiful-set-of-theories-you-ever-knew-when-i-started-out-as-a-schoolmaam-but-every-quote-1..jpg\n",
            " OK : 1081299904-679621bb21a60584ee46745f6e89452e..jpg\n",
            " OK : 82815808-48f196aae821335884716cde1fd0b35a..jpg\n",
            " OK : ef02224627c101c174b8e922028ba3d2..jpg\n",
            " OK : 1385356859-aefc9c4c2106a514627c170087bdab75..jpg\n",
            " OK : i-cant-eat-i-can-never-eat-when-im-in-the-depths-of-despair-quote-1..jpg\n",
            " OK : 629531957-kindred-spirits_png..png\n",
            " OK : 1056420283-196ddde07fc7e88b4e9a5eae0d183984..jpg\n",
            "FAIL: 629531957-kindred-spirits_png name 'index' is not defined\n",
            " OK : 10cf3537a980df63374cc8578916a78d..jpg\n",
            "FAIL: 1081299904-679621bb21a60584ee46745f6e89452e name 'index' is not defined\n",
            " OK : 1515956-Anne-Shirley-Quote-But-if-you-only-knew-how-many-things-I-want-to..jpg\n",
            "FAIL: 82815808-48f196aae821335884716cde1fd0b35a name 'index' is not defined\n",
            " OK : 8a3d438d8f980d07a439ace646d0cf17..png\n",
            " OK : 1515961-Anne-Shirley-Quote-It-does-people-good-to-have-to-do-things-they..jpg\n",
            " OK : il_794xN.2157386601_3wsa..jpg\n",
            "FAIL: ambitions_Anne_Shirley-e1446490293242 HTTP Error 404: Not Found\n",
            " OK : ea906bf45f99be152d16fca62f27e9f1..jpg\n",
            " OK : il_570xN.633866431_8544..jpg\n",
            " OK : il_fullxfull.957067742_gh9c..jpg\n",
            " OK : 804580169-true_friends_anne_of_green_gables_plaque-r52b7c7d0e3344f668ca3cce3a0ced360_ar56b_8byvr_512..jpg\n",
            " OK : anne-shirley-quotes-ovxt1aujdcify8opq77vct2lqk36ng072kcdrr7154..jpg\n",
            " OK : bd555f7cef0c6bbc7aa178eb3617716e..jpg\n",
            " OK : il_1588xN.1949633250_k5m2..jpg\n",
            " OK : 43ffa91df0a6c218a6bd38315a8fd297..jpg\n",
            " OK : 1dd444721d4457fba526494d9be5c39d..jpg\n",
            " OK : just-as-soon-as-you-attain-to-one-ambition-you-see-another-one-glittering-higher-up-still-it-does-quote-1..jpg\n",
            " OK : 0cab0a02bbf3bdc6c4336fa97396c24d..jpg\n",
            " OK : 1688246211-7b0d4b9d545e5dd3f506c4ca89bce69e..jpg\n",
            " OK : 27a0acc9c9d363344be033a184225431--witty-quotes-anne-shirley..jpg\n",
            " OK : bbc62b1966eb82bce7304af0bf5c482a..jpg\n",
            " OK : eb7bf98a65d921afbe21e3b0262e7d80..jpg\n",
            " OK : 1797107224-anne_shirley..jpg\n",
            " OK : 2035212508-tumblr_lyvbr3qoVY1rn62juo1_500..png\n",
            " OK : 08866cea882b73200fc9fdc81bb29a88..jpg\n",
            " OK : 5176623-94fd1ae0b201ea0949aeee53ce8db43c..jpg\n",
            " OK : il_fullxfull.505401254_hhbs..jpg\n",
            " OK : il_fullxfull.1036830829_ng7b..jpg\n",
            " OK : 17176508e2eddb8251b9a2d94979c660..jpg\n",
            "FAIL: 5176623-94fd1ae0b201ea0949aeee53ce8db43c name 'index' is not defined\n",
            " OK : 5c0a9496648e1c18a439e20a637ead2c..jpg\n",
            " OK : 464295897-tumblr_lh58xhUUAV1qafy2do1_500..jpg\n",
            "FAIL: OGC HTTP Error 404: Not Found\n",
            " OK : 6edb9503f996dcc6d4022088e8537f69..jpg\n",
            " OK : tumblr_l2j42hbp1Y1qzlhqfo1_500..png\n",
            "FAIL: Anne_Shirley_Ambition HTTP Error 404: Not Found\n",
            " OK : 1366098922-983444b108ccea04c70bbe46aa300e43..jpg\n",
            " OK : il_fullxfull.1436542594_av63..jpg\n",
            " OK : cf86b0ecc8dcfa91e57a678f23d33660..jpg\n",
            " OK : il_794xN.2592756574_nypj..jpg\n",
            " OK : 2f973ba6c1c6bf8302b6ac73e52e6344..gif\n",
            " OK : a892c3fe5eb73c7593e8f19c5d1e57fd..jpg\n",
            " OK : 7b5fdcc629c70b69632c08b58ca08b2c..jpg\n",
            " OK : 2e6c44ff87cca01b0b16ee32a2905726..jpg\n",
            " OK : 96be4191c62b41d5a388722313565c9d..jpg\n",
            " OK : 2d4f1c625ae9694141e5c2d94b96d546..jpg\n",
            "FAIL: OGC HTTP Error 404: Not Found\n",
            " OK : b5dfaedfed347e3f07b33a4aab6668c8..jpg\n",
            " OK : e4c1ebe34ac5ac852b64f1c7d42d2205..jpg\n",
            " OK : bfeaa00150d9fc847254be8939632736..png\n",
            " OK : 444c3d2668b88ca97076a3116fb06388..jpg\n",
            " OK : 48967cb4618959372f98b13f5dbfc9df..jpg\n",
            " OK : 1bbb601fe4dce7479f003fa324752680..jpg\n",
            " OK : il_fullxfull.1240432691_fd3k..jpg\n",
            " OK : 5735171b252f153e0148b3eb5369f36d..jpg\n",
            " OK : cc81feeed471e376555ccfacaa602e29..jpg\n",
            " OK : 1754940035-c77f44bf2924cd16e01c827806b261de..jpg\n",
            " OK : ff81f74149ccf393efc4848cd8d4a6d2..jpg\n",
            " OK : 1690112520-138729889403_anneofgreengables-700x525..jpg\n",
            " OK : 1678614622-6753b596b1196f30e7bc20da4de2e272..jpg\n",
            " OK : gilbert-im-afraid-im-scandalously-in-love-with-you-quote-1..jpg\n",
            " OK : c439858bded2491cc6726b9bf4db3bf5..jpg\n",
            " OK : af03d383db877052b4ea08aee3860044..jpg\n",
            " OK : 76f971e6370586596ec201df1a58a7e6..png\n",
            " OK : il_570xN.1171081085_8j8p..jpg\n",
            " OK : e5362637e44e228e05dbcc96213ee699..jpg\n",
            " OK : tumblr_ldnk1zf8ig1qzu6rfo1_1280..jpg\n",
            "FAIL: Anne-with-an-e-quotes-wallpaper HTTP Error 404: Not Found\n",
            " OK : c833f13061a375e406fff7d8181bdeda..jpg\n",
            " OK : anne-shirley-quotes-3..jpg\n",
            " OK : il_570xN.560840702_5qaz..jpg\n",
            " OK : anne-shirley-quotes-3..jpg\n",
            " OK : Anne_Green_Gables_Quote..jpg\n",
            " OK : 16a0f5fbfca92c08a4e60e21150741b3..jpg\n",
            " OK : 9c2ee6f8f57a88b4be4067c473cbb9b9..jpg\n",
            " OK : 890f1c11d3abaa7472d259847729459e..jpg\n",
            " OK : 0250e764f488b3a5644c7ebd1f9ad1e2..jpg\n",
            " OK : fc68d82e6aa6b639787e42517e3b202a--anne-shirley-anne-of-green-gables..jpg\n",
            " OK : 1758005171-Anne-of-Green-Gables-October-Quote-Blog..png\n",
            " OK : 59d50ca3570373d86bbd27b43eeb60fd..png\n",
            "FAIL: 1688246211-7b0d4b9d545e5dd3f506c4ca89bce69e name 'index' is not defined\n",
            " OK : 944457714-baaae8ac07529e271a9615f97efe7585..jpg\n",
            "FAIL: Anne_Shirley_Ambition HTTP Error 404: Not Found\n",
            " OK : d644fa76ea19327f0ebe822efa29785a..jpg\n",
            "FAIL: Anne-with-an-e-quotes-wallpaper HTTP Error 404: Not Found\n",
            "FAIL: Anne_Shirley_Imagining_Quote-e1446486975609 HTTP Error 404: Not Found\n",
            "FAIL: OGC HTTP Error 404: Not Found\n",
            " OK : il_fullxfull.2157390167_pcs1..jpg\n",
            " OK : Its-Not-What-the-World-Holds-For-You-1-768x994..jpg\n",
            " OK : 63678823-7f1145a254731575dbd10a98a5acb2b5..jpg\n",
            " OK : 1584388981-anne-shirley-quote..jpg\n",
            " OK : b6dfd92810238814ecbf0a79a34646e5..jpg\n",
            " OK : 23e60bc2507628c46d48277c4e5f6ede..jpg\n",
            " OK : but-if-you-only-knew-how-many-things-i-want-to-say-and-dont-quote-1..jpg\n",
            " OK : d85b65850bb112e2c56f01f150aadf89..jpg\n",
            " OK : 39288463-6466321..jpg\n",
            " OK : decc4cb31136d100045f051726fefaa9..jpg\n",
            " OK : 482993872-il_570xN_523763398_efht..jpg\n",
            " OK : bd28a719b92c4376bb1397113fa5ef83--anne-shirley-reading-quotes..jpg\n",
            " OK : 432717801-new-header-idea..png\n",
            " OK : bb245688492205a06d651dfd62f52814..jpg\n",
            " OK : tumblr_oqto7bljbp1vosucoo3_r1_400..gifv\n",
            " OK : 4eaefe126dfc485cc961c636b5024256..png\n",
            " OK : 132ee61ca2a7527ec8acafce66310b07--anne-shirley-star-quotes..jpg\n",
            "FAIL: 5eed285f914defe494db7039_Tomorrow Quote Product URL can't contain control characters. '/5bd0d648eb9c4207eb508686/5eed285f914defe494db7039_Tomorrow Quote Product.jpg' (found at least ' ')\n",
            " OK : 2115094639-07d7cd2a08b7cbc632f7dde1e44e53af..jpg\n",
            " OK : Quotation-Anne-Shirley-Anne-Of-Green-Gables-time-sense-Meetville-Quotes-247628..jpg\n",
            " OK : 012914da213922b408533bd5226c2e64..jpg\n",
            " OK : 203666..jpg\n",
            " OK : 594872..jpg\n",
            "FAIL: 944457714-baaae8ac07529e271a9615f97efe7585 name 'index' is not defined\n",
            " OK : 9611ae038b4552d018fb7f8ee69b29b1..jpg\n",
            " OK : il_fullxfull.2249877609_ibpj..jpg\n",
            " OK : c4d4f4fe0fdcf9443d0a38ccb665914f..jpg\n",
            "FAIL: Anne_Shirley_Imagining_Quote-e1446486975609 HTTP Error 404: Not Found\n",
            " OK : 493016156-c115dc3dfc9c8d7156d78739dae43b80..jpg\n",
            " OK : youd-find-it-easier-to-be-bad-than-good-if-you-had-red-hair-people-who-havent-red-hair-dont-know-quote-1..jpg\n",
            " OK : 79dca0720933c72e9c94b8ebd71342ad..png\n",
            " OK : it-does-people-good-to-have-to-do-things-they-dont-like-in-moderation-quote-1..jpg\n",
            " OK : ec45e4539161c4da9b183313795efedd..jpg\n",
            " OK : 229939063-il_fullxfull_257086578..jpg\n",
            " OK : Anne-Shirley-Quote-anne-of-green-gables-40693495-300-114..png\n",
            " OK : 8f11de5c21f643d43aa609c02722f9ec..jpg\n",
            " OK : b8616acaa6776b932253f142d461ae64--anne-shirley-star-quotes..jpg\n",
            " OK : ad0e5df74a67b96aeec69e18ca493bc6..jpg\n",
            " OK : c3bb71600634da6725efb5e947544169..jpg\n",
            " OK : il_570xN.500404015_hee9..jpg\n",
            " OK : 0ad440b39161a96d3ead10809534e84d..jpg\n",
            " OK : e0f6e6cfa9b5c2d44d441d210c255c3c..jpg\n",
            " OK : 69554735c0245947679275fa2806a78e..jpg\n",
            " OK : tumblr_o5okin7csz1undtvqo1_5401..jpg\n",
            " OK : il_794xN.1258417283_lbcl..jpg\n",
            " OK : il_794xN.2620442009_4flc..jpg\n",
            " OK : Anne-Shirley-Quote-308x400..jpg\n",
            " OK : AnneofGreenGablesKindredSpiritsPrintable..jpg\n",
            "FAIL: OGC HTTP Error 404: Not Found\n",
            "FAIL: 12911123_0 URL can't contain control characters. '/teepublic/image/private/s--XD4IQDsM--/t_Resized Artwork/c_crop,x_10,y_10/c_fit,h_544/c_crop,g_north_west,h_544,w_409,x_-11,y_0/g_north_west,u_upload:v1561483908:production:blanks:bjubapd1dghai3au0bl1,x_-439,y_-347/b_rgb:eeeeee/c_limit,f_jpg,h_630,q_90,w_630/v1596924282/production/designs/12911123_0.jpg' (found at least ' ')\n",
            " OK : 251794..jpg\n",
            " OK : il_570xN.381666082_r15b..jpg\n",
            " OK : il_570xN.814410229_gjta..jpg\n",
            " OK : il_340x270.1145972649_h5g9..jpg\n",
            " OK : il_570xN.381660835_3j9b..jpg\n",
            " OK : anne-shirley-green-gables-wall-art-quote-lm-montgomery-print-anne-shirley-quotes-book-lover-gifts-svitlana-ostrovska-and-olena-mishina..jpg\n",
            " OK : aps,504x498,small,transparent-pad,600x600,f8f8f8..jpg\n",
            " OK : 2079057958-69485000456dd036fae80a5f7b65914b..jpg\n",
            " OK : AnneofGreenGablesGodsinHisHeaven+copy..jpg\n",
            " OK : il_fullxfull.727794173_pu5q..jpg\n",
            " OK : b34ed4767ac9774636cad01d9f8b02f7..jpg\n",
            " OK : Im-so-glad-I-live-in-a-world-where-there-are-Octobers.-Anne-Shirley-author-Montgomery-AnExtraordinaryDay.net_..jpg\n",
            " OK : 276461872-cc6fa07f779cf1832ce30e8b4f63f74a..jpg\n",
            "FAIL: Anne-Of-Green-Gables-final-Cover3 HTTP Error 404: Not Found\n",
            " OK : f05d4b39912d08a56b76f588e38ccbaf..jpg\n",
            " OK : il_1588xN.2644514087_yl0s..jpg\n",
            " OK : ef8624378243a353aa40f28dcd9902d2..gif\n",
            " OK : 1716057519-tumblr_mcdlziDfZ11rjdd7yo1_500..jpg\n",
            " OK : 374123042-09f4e002bf93937a310116790fae4cae..jpg\n",
            " OK : c01599875302c1846820b51bffcaca35..jpg\n",
            " OK : 1001633231-49a108de84d380323fcb8cca2de2b45f..jpg\n",
            " OK : 12487607_0..jpg\n",
            " OK : 366104350-a3915d0c4e_Funny-and-inspirational-quotes-by-Shirley-Temple---..jpg\n",
            " OK : il_794xN.2469857454_6al2..jpg\n",
            " OK : a4470bc0bc1ef4a0f2d83f4ebe48fdec..png\n",
            " OK : 647377221-2797881c464ce1545b5043c381d16d2f295243ef62049cdf204ddce0e6e54baf..jpg\n",
            " OK : 5e19a0c813c7a542021551c50b0a0906..jpg\n",
            " OK : 584aa1186535b1b1121ae05342b0a157..jpg\n",
            "FAIL: OGC HTTP Error 404: Not Found\n",
            "FAIL: Anne_Shirley_Annes-e1446487710837 HTTP Error 404: Not Found\n",
            " OK : c4dfbcd69043db1d333bc4008c35c646..jpg\n",
            "FAIL: Anne_Shirley_Imagining_Quote-e1446486975609 HTTP Error 404: Not Found\n",
            " OK : cbf72c29cd5d176e6441a975f400a30f..jpg\n",
            " OK : 44b0ad4c38ccfd22358293d88d947fd3..jpg\n",
            " OK : 128118980..jpg\n",
            " OK : dd38854f94ff997da9f4340f84ace527..jpg\n",
            " OK : 489165fd259df4d65d8aafaa02ca1730..jpg\n",
            " OK : cc48633da988466bc09b1ba0dd66a4db..jpg\n",
            " OK : 856fa9d2a380405d181ba1075d0430cb..jpg\n",
            " OK : ca3934a762d1f35d3ad62eaa414d411b..jpg\n",
            " OK : 029a16e0371fafe2673604e6d012ef49..jpg\n",
            " OK : 30ed75368c80916629e36edb770d9156..jpg\n",
            " OK : c8fLGQOF_200x200..jpg\n",
            " OK : 012b716fc10c568e3ae77f57a350ef06..jpg\n",
            " OK : bd871872b7dc9a31fc403fef102b89b9..jpg\n",
            " OK : 0f5f30ae90d193707cb780f30a86dde1..jpg\n",
            " OK : 61619875..jpg\n",
            " OK : a10c3a3e0dac753e02929b910f119464..jpg\n",
            " OK : 125153321eebe1b4bc885ba59a73d133..jpg\n",
            " OK : 0194c8fe19f2a8f805f732571b545c26..jpg\n",
            " OK : 1ada1740de78c564159a256ed34562cc..jpg\n",
            " OK : dd10cd24d34c8be409c6566031070981..jpg\n",
            "FAIL: content HTTP Error 404: Not Found\n",
            "FAIL: content HTTP Error 404: Not Found\n",
            "FAIL: content HTTP Error 404: Not Found\n",
            " OK : tumblr_oqelxx347e1w735o4o3_500..gif\n",
            " OK : AByxGDQlTzUDgKh_KlwvfCqdcynvWDWnT35DAmviEFlX4UbLlXjbf2F5Lp0jXKaS2b_v7f0KqAxAEkJbzD0eSlofnhXIeAJfaV6r_234mAaBWJps7Clhb8_tGKUJrTDLkF2uC9erBY6DK1tyvsi2yJJ9xGNK=s0-d.jpg\n",
            " OK : NR9B7zSh_200x200..jpg\n",
            " OK : 3aa641c8b7e0194a9bcf446216824c72..jpg\n",
            " OK : aab6478986dce89070ffa54fb77abc0c..jpg\n",
            " OK : aa26dd235f603ec745dfc04ab3dbea22--cross-quilt-quilting-quotes..jpg\n",
            " OK : 20bff1207657396b362a84d85dd51fd2..jpg\n",
            " OK : 31848bc01037cefe158011e6bef6f3e9--patricia-neal-classic-actresses..jpg\n",
            " OK : 373f3d3fe6c53950bae2e4b33e567512..jpg\n",
            "FAIL: content HTTP Error 404: Not Found\n",
            "FAIL: content HTTP Error 404: Not Found\n",
            "FAIL: content HTTP Error 404: Not Found\n",
            " OK : woodstockindependent-12-31-14..jpg\n",
            "history_dumped\n"
          ]
        }
      ]
    },
    {
      "cell_type": "markdown",
      "source": [
        "# **Text Extractor From Image**"
      ],
      "metadata": {
        "id": "8ZVlM6KmtoxE"
      }
    },
    {
      "cell_type": "code",
      "source": [
        "!pip install pytesseract"
      ],
      "metadata": {
        "id": "4sBD80EOvtn0",
        "colab": {
          "base_uri": "https://localhost:8080/"
        },
        "outputId": "8c0a29b2-548f-4ce5-c179-a5a3d2885f03"
      },
      "execution_count": 10,
      "outputs": [
        {
          "output_type": "stream",
          "name": "stdout",
          "text": [
            "Looking in indexes: https://pypi.org/simple, https://us-python.pkg.dev/colab-wheels/public/simple/\n",
            "Requirement already satisfied: pytesseract in /usr/local/lib/python3.9/dist-packages (0.3.10)\n",
            "Requirement already satisfied: Pillow>=8.0.0 in /usr/local/lib/python3.9/dist-packages (from pytesseract) (8.4.0)\n",
            "Requirement already satisfied: packaging>=21.3 in /usr/local/lib/python3.9/dist-packages (from pytesseract) (23.1)\n"
          ]
        }
      ]
    },
    {
      "cell_type": "code",
      "source": [
        "import pytesseract\n",
        "from PIL import Image"
      ],
      "metadata": {
        "id": "V2T4RstdpOcZ"
      },
      "execution_count": 11,
      "outputs": []
    },
    {
      "cell_type": "code",
      "source": [
        "def extract_text_from_image(image_path):\n",
        "  # Open the image file\n",
        "  image = Image.open(image_path)\n",
        "  \n",
        "  # Convert the image to grayscale\n",
        "  image = image.convert('L')\n",
        "\n",
        "  # Extract the text from the image using Tesseract\n",
        "  text = pytesseract.image_to_string(image)\n",
        "\n",
        "  return text"
      ],
      "metadata": {
        "id": "637KisEjvrB0"
      },
      "execution_count": 12,
      "outputs": []
    },
    {
      "cell_type": "code",
      "source": [
        "!apt-get update\n",
        "!apt-get install tesseract-ocr\n",
        "!apt-get install libtesseract-dev\n",
        "!pip install pytesseract"
      ],
      "metadata": {
        "colab": {
          "base_uri": "https://localhost:8080/"
        },
        "id": "9EQ6TkY-ye4e",
        "outputId": "9f497c5c-db4a-48b6-f9ef-8d29d613c405"
      },
      "execution_count": 13,
      "outputs": [
        {
          "output_type": "stream",
          "name": "stdout",
          "text": [
            "\r0% [Working]\r            \rHit:1 https://cloud.r-project.org/bin/linux/ubuntu focal-cran40/ InRelease\n",
            "\r0% [Connecting to archive.ubuntu.com] [Connecting to security.ubuntu.com (185.1\r                                                                               \rHit:2 https://developer.download.nvidia.com/compute/cuda/repos/ubuntu2004/x86_64  InRelease\n",
            "\r0% [Connecting to archive.ubuntu.com (185.125.190.39)] [Waiting for headers] [W\r                                                                               \rHit:3 http://security.ubuntu.com/ubuntu focal-security InRelease\n",
            "Hit:4 http://ppa.launchpad.net/c2d4u.team/c2d4u4.0+/ubuntu focal InRelease\n",
            "Hit:5 http://archive.ubuntu.com/ubuntu focal InRelease\n",
            "Hit:6 http://archive.ubuntu.com/ubuntu focal-updates InRelease\n",
            "Hit:7 http://ppa.launchpad.net/cran/libgit2/ubuntu focal InRelease\n",
            "Hit:8 http://archive.ubuntu.com/ubuntu focal-backports InRelease\n",
            "Hit:9 http://ppa.launchpad.net/deadsnakes/ppa/ubuntu focal InRelease\n",
            "Hit:10 http://ppa.launchpad.net/graphics-drivers/ppa/ubuntu focal InRelease\n",
            "Hit:11 http://ppa.launchpad.net/ubuntugis/ppa/ubuntu focal InRelease\n",
            "Reading package lists... Done\n",
            "Reading package lists... Done\n",
            "Building dependency tree       \n",
            "Reading state information... Done\n",
            "tesseract-ocr is already the newest version (4.1.1-2build2).\n",
            "0 upgraded, 0 newly installed, 0 to remove and 32 not upgraded.\n",
            "Reading package lists... Done\n",
            "Building dependency tree       \n",
            "Reading state information... Done\n",
            "libtesseract-dev is already the newest version (4.1.1-2build2).\n",
            "0 upgraded, 0 newly installed, 0 to remove and 32 not upgraded.\n",
            "Looking in indexes: https://pypi.org/simple, https://us-python.pkg.dev/colab-wheels/public/simple/\n",
            "Requirement already satisfied: pytesseract in /usr/local/lib/python3.9/dist-packages (0.3.10)\n",
            "Requirement already satisfied: packaging>=21.3 in /usr/local/lib/python3.9/dist-packages (from pytesseract) (23.1)\n",
            "Requirement already satisfied: Pillow>=8.0.0 in /usr/local/lib/python3.9/dist-packages (from pytesseract) (8.4.0)\n"
          ]
        }
      ]
    },
    {
      "cell_type": "code",
      "source": [
        "img_name = \"1056420283-196ddde07fc7e88b4e9a5eae0d183984..jpg\"\n",
        "img_path = \"/content/drive/MyDrive/Crawled_Imgaes/Anne_shirley_quotes/\" + img_name\n",
        "img_text = extract_text_from_image(img_path)\n",
        "print(\"\\'\" + img_text + \"\\'\")"
      ],
      "metadata": {
        "colab": {
          "base_uri": "https://localhost:8080/"
        },
        "id": "A1wDjpnlygLO",
        "outputId": "baf8a2e4-76da-44f2-9aaa-156528e74fd3"
      },
      "execution_count": 14,
      "outputs": [
        {
          "output_type": "stream",
          "name": "stdout",
          "text": [
            "'IT 1S EVER SO MUCH\n",
            "EASIER TO BE GOOD\n",
            "IF YOUR CLOTHES\n",
            "ARE FASHIONABLE. -\n",
            "ANNE SHIRLEY\n",
            "\f'\n"
          ]
        }
      ]
    },
    {
      "cell_type": "code",
      "source": [
        "from google.colab.patches import cv2_imshow\n",
        "import cv2\n",
        "import matplotlib.pyplot as plt\n",
        "import os"
      ],
      "metadata": {
        "id": "K1Rwxt2Dzufi"
      },
      "execution_count": 15,
      "outputs": []
    },
    {
      "cell_type": "code",
      "source": [
        "img_path = \"/content/drive/MyDrive/Crawled_Imgaes/Anne_shirley_quotes/\" + img_name\n",
        "\n",
        "if os.path.exists(img_path):\n",
        "    img = cv2.imread(img_path)\n",
        "\n",
        "    # Check if the image was read successfully\n",
        "    if img is not None:\n",
        "        # Convert BGR to RGB color format\n",
        "        img = cv2.cvtColor(img, cv2.COLOR_BGR2RGB)\n",
        "\n",
        "        # Display the image using Matplotlib\n",
        "        plt.imshow(img)\n",
        "        plt.show()\n",
        "    else:\n",
        "        print(f\"Error: {img_path} could not be read.\")\n",
        "else:\n",
        "    print(f\"Error: {img_path} does not exist or is not readable.\")"
      ],
      "metadata": {
        "id": "bc1wfdyd0DDB",
        "colab": {
          "base_uri": "https://localhost:8080/",
          "height": 435
        },
        "outputId": "af29cdcb-210b-4b5b-a66c-c8ef0a434b50"
      },
      "execution_count": 16,
      "outputs": [
        {
          "output_type": "display_data",
          "data": {
            "text/plain": [
              "<Figure size 640x480 with 1 Axes>"
            ],
            "image/png": "[encoded data removed]"
          },
          "metadata": {}
        }
      ]
    },
    {
      "cell_type": "markdown",
      "source": [
        "# **Spell Checker using pyspellchecker library**"
      ],
      "metadata": {
        "id": "Da6Hg6vl0HGq"
      }
    },
    {
      "cell_type": "code",
      "source": [
        "!pip install pyspellchecker"
      ],
      "metadata": {
        "id": "GkvIhYbT6amb",
        "colab": {
          "base_uri": "https://localhost:8080/"
        },
        "outputId": "ec3947c0-9732-4ecc-c503-a125c6796a76"
      },
      "execution_count": 17,
      "outputs": [
        {
          "output_type": "stream",
          "name": "stdout",
          "text": [
            "Looking in indexes: https://pypi.org/simple, https://us-python.pkg.dev/colab-wheels/public/simple/\n",
            "Requirement already satisfied: pyspellchecker in /usr/local/lib/python3.9/dist-packages (0.7.2)\n"
          ]
        }
      ]
    },
    {
      "cell_type": "code",
      "source": [
        "from spellchecker import SpellChecker\n",
        "import re\n",
        "spell = SpellChecker()"
      ],
      "metadata": {
        "id": "QSj2B50SZgLs"
      },
      "execution_count": 18,
      "outputs": []
    },
    {
      "cell_type": "code",
      "source": [
        "def spell_check(wrong_text):\n",
        "    wrong_text = wrong_text.strip()\n",
        "    wrong_text = re.sub(' +', ' ', wrong_text)\n",
        "    corrected_text = wrong_text\n",
        "    \n",
        "    for word in corrected_text.split(\" \"):\n",
        "      try:\n",
        "        if word[-1] == '.':\n",
        "          corrected_text = corrected_text.replace(word[:-1], spell.correction(word[:-1]))\n",
        "        else:\n",
        "          corrected_text = corrected_text.replace(word, spell.correction(word))\n",
        "      except:\n",
        "        continue\n",
        "\n",
        "    return corrected_text"
      ],
      "metadata": {
        "id": "r4S0MeiSQhSu"
      },
      "execution_count": 19,
      "outputs": []
    },
    {
      "cell_type": "code",
      "source": [
        "# wrong_text = \"    This is a testt to chek the          speling whic hhas spell issu.\"\n",
        "print('\\'', spell_check(img_text), '\\'')"
      ],
      "metadata": {
        "colab": {
          "base_uri": "https://localhost:8080/"
        },
        "id": "OzbmgTSJZj4_",
        "outputId": "7502c6a9-8ed7-41ca-a2cb-20f4b7272471"
      },
      "execution_count": 20,
      "outputs": [
        {
          "output_type": "stream",
          "name": "stdout",
          "text": [
            "' IT is EVER SO MUCH\n",
            "EASIER TO BE goodie YOUR CLOTHES\n",
            "ARE FASHIONABLE. anne SHIRLEY '\n"
          ]
        }
      ]
    },
    {
      "cell_type": "markdown",
      "source": [
        "# **Grammar Checker using tool-language-python library**"
      ],
      "metadata": {
        "id": "w8ZRKMI4f3b4"
      }
    },
    {
      "cell_type": "code",
      "source": [
        "! pip install language-tool-python  "
      ],
      "metadata": {
        "id": "54duTb6l9Sr9",
        "colab": {
          "base_uri": "https://localhost:8080/"
        },
        "outputId": "2b4c6704-5de6-46b7-d419-a5b6507d6d6c"
      },
      "execution_count": 21,
      "outputs": [
        {
          "output_type": "stream",
          "name": "stdout",
          "text": [
            "Looking in indexes: https://pypi.org/simple, https://us-python.pkg.dev/colab-wheels/public/simple/\n",
            "Requirement already satisfied: language-tool-python in /usr/local/lib/python3.9/dist-packages (2.7.1)\n",
            "Requirement already satisfied: requests in /usr/local/lib/python3.9/dist-packages (from language-tool-python) (2.27.1)\n",
            "Requirement already satisfied: tqdm in /usr/local/lib/python3.9/dist-packages (from language-tool-python) (4.65.0)\n",
            "Requirement already satisfied: charset-normalizer~=2.0.0 in /usr/local/lib/python3.9/dist-packages (from requests->language-tool-python) (2.0.12)\n",
            "Requirement already satisfied: idna<4,>=2.5 in /usr/local/lib/python3.9/dist-packages (from requests->language-tool-python) (3.4)\n",
            "Requirement already satisfied: urllib3<1.27,>=1.21.1 in /usr/local/lib/python3.9/dist-packages (from requests->language-tool-python) (1.26.15)\n",
            "Requirement already satisfied: certifi>=2017.4.17 in /usr/local/lib/python3.9/dist-packages (from requests->language-tool-python) (2022.12.7)\n"
          ]
        }
      ]
    },
    {
      "cell_type": "code",
      "source": [
        "import language_tool_python  \n",
        "  \n",
        "# using the tool  \n",
        "my_tool = language_tool_python.LanguageTool('en-US')  "
      ],
      "metadata": {
        "id": "rypyWOPI_UrZ"
      },
      "execution_count": 22,
      "outputs": []
    },
    {
      "cell_type": "code",
      "source": [
        "def grammar_check(my_text):\n",
        "  my_text = spell_check(my_text)\n",
        "  my_matches = my_tool.check(my_text)  \n",
        "  text = my_tool.correct(my_text)\n",
        "  return text"
      ],
      "metadata": {
        "id": "tSyD2MQD-_ET"
      },
      "execution_count": 23,
      "outputs": []
    },
    {
      "cell_type": "code",
      "source": [
        "# my_text = \"\"\"LanguageTool provides utility to check grammar and spelling errors. We just have to paste the text here and click the 'Check Text' button. Click the colored phrases for for information on potential errors. or we can use this text too see an some of the issues that LanguageTool can dedect. Whot do someone thinks of grammar checkers? Please not that they are not perfect. Style problems get a blue marker: It is 7 P.M. in the evening. The weather was nice on Monday, 22 November 2021\"\"\"   \n",
        "grammar_check(img_text)"
      ],
      "metadata": {
        "colab": {
          "base_uri": "https://localhost:8080/",
          "height": 35
        },
        "id": "Ko40N8ZDKnZR",
        "outputId": "a3c12765-ca2d-4aa7-dc68-f622fa95b96c"
      },
      "execution_count": 26,
      "outputs": [
        {
          "output_type": "execute_result",
          "data": {
            "text/plain": [
              "'IT is EVER SO MUCH\\nEASIER TO BE goodie YOUR CLOTHES\\nARE FASHIONABLE. Anne SHIRLEY'"
            ],
            "application/vnd.google.colaboratory.intrinsic+json": {
              "type": "string"
            }
          },
          "metadata": {},
          "execution_count": 26
        }
      ]
    },
    {
      "cell_type": "markdown",
      "source": [
        "# **Fuzzy search using fuzzywuzzy library**"
      ],
      "metadata": {
        "id": "WQh74A7uMRDm"
      }
    },
    {
      "cell_type": "code",
      "source": [
        "! pip install fuzzywuzzy\n",
        "! pip install python-Levenshtein"
      ],
      "metadata": {
        "id": "7bNdOIE7Q-5p",
        "colab": {
          "base_uri": "https://localhost:8080/"
        },
        "outputId": "f7426be6-6672-48e8-ef3b-527405374f68"
      },
      "execution_count": 27,
      "outputs": [
        {
          "output_type": "stream",
          "name": "stdout",
          "text": [
            "Looking in indexes: https://pypi.org/simple, https://us-python.pkg.dev/colab-wheels/public/simple/\n",
            "Requirement already satisfied: fuzzywuzzy in /usr/local/lib/python3.9/dist-packages (0.18.0)\n",
            "Looking in indexes: https://pypi.org/simple, https://us-python.pkg.dev/colab-wheels/public/simple/\n",
            "Requirement already satisfied: python-Levenshtein in /usr/local/lib/python3.9/dist-packages (0.21.0)\n",
            "Requirement already satisfied: Levenshtein==0.21.0 in /usr/local/lib/python3.9/dist-packages (from python-Levenshtein) (0.21.0)\n",
            "Requirement already satisfied: rapidfuzz<4.0.0,>=2.3.0 in /usr/local/lib/python3.9/dist-packages (from Levenshtein==0.21.0->python-Levenshtein) (3.0.0)\n"
          ]
        }
      ]
    },
    {
      "cell_type": "code",
      "source": [
        "import os\n",
        "from fuzzywuzzy import fuzz"
      ],
      "metadata": {
        "id": "A-PgcsvsMQD8"
      },
      "execution_count": 28,
      "outputs": []
    },
    {
      "cell_type": "code",
      "source": [
        "def fuzzy_search_in_files(search_str):\n",
        "    is_founded = False\n",
        "    # Open the text file and read its contents\n",
        "    path = \"/content/drive/MyDrive/Anne Books\"\n",
        "    founded_book = set()\n",
        "    for filename in os.listdir(path):\n",
        "        print(f\"checking --> '{filename}' ...\")\n",
        "\n",
        "        with open(os.path.join(path, filename), \"r\") as f:\n",
        "            contents = f.readlines()\n",
        "\n",
        "        # Loop through the lines and find a match with the search string\n",
        "        for line in contents:\n",
        "            # Calculate the fuzz ratio between the line and the search string\n",
        "            ratio = fuzz.ratio(line.lower(), search_str.lower())\n",
        "            \n",
        "            # If the ratio is high enough, print the line\n",
        "            if ratio > 53:\n",
        "                # print('---------------')\n",
        "                # print(f\"Something is founded in the {filename}: \\n\", line)\n",
        "                is_founded = True\n",
        "                founded_book.add(filename)\n",
        "                # print('---------------')\n",
        "    return is_founded, founded_book"
      ],
      "metadata": {
        "id": "9_Kmk-z8QmXu"
      },
      "execution_count": 58,
      "outputs": []
    },
    {
      "cell_type": "code",
      "source": [
        "# txt = \"You'd find it easier to be bad than good if you had red hair... People who haven’t red hair don’t know what trouble is.\"\n",
        "txt = \"can you go tomorrow afternoon\""
      ],
      "metadata": {
        "id": "jfuGu4pvobGc"
      },
      "execution_count": 59,
      "outputs": []
    },
    {
      "cell_type": "code",
      "source": [
        "# Real sentece in Anne_s_House_of_Dreams.txt is:\n",
        "real_text= \\\n",
        "\"\"\"\n",
        "    \"Well, thank goodness that Anne and Gilbert really are going to be\n",
        "    married after all.  It's what I've always prayed for,\" said Mrs.\n",
        "    Rachel, in the tone of one who is comfortably sure that her prayers\n",
        "    have availed much.\n",
        "\"\"\"\n",
        "# The same sentece with that is:\n",
        "same_text= \\\n",
        "\"\"\"\n",
        "    Thank God Annie and Gilbert are finally getting married. I always pray to God that this happens.\n",
        "\"\"\"\n",
        "fuzzy_search_in_files(same_text)"
      ],
      "metadata": {
        "colab": {
          "base_uri": "https://localhost:8080/"
        },
        "id": "bpL_1R2umMww",
        "outputId": "c4822938-4b72-48c4-c641-aa2cef0347ad"
      },
      "execution_count": 61,
      "outputs": [
        {
          "output_type": "stream",
          "name": "stdout",
          "text": [
            "checking --> 'Anne_s_House_of_Dreams.txt' ...\n",
            "checking --> 'Anne_of_Windy_Poplars.txt' ...\n",
            "checking --> 'Anne_of_Ingleside.txt' ...\n",
            "checking --> 'Anne_of_Avonlea.txt' ...\n",
            "checking --> 'Rilla_of_Ingleside.txt' ...\n",
            "checking --> 'Anne_of_Green_Gables.txt' ...\n",
            "checking --> 'Rainbow_Valley.txt' ...\n",
            "checking --> 'Anne_Of_The_Island.txt' ...\n"
          ]
        },
        {
          "output_type": "execute_result",
          "data": {
            "text/plain": [
              "(True, {'Anne_s_House_of_Dreams.txt'})"
            ]
          },
          "metadata": {},
          "execution_count": 61
        }
      ]
    },
    {
      "cell_type": "markdown",
      "source": [
        "# **Translate the extracted text into persian using deep_translator library**"
      ],
      "metadata": {
        "id": "tR_YZJDhjcFS"
      }
    },
    {
      "cell_type": "code",
      "source": [],
      "metadata": {
        "id": "mIuXvYwljbR-"
      },
      "execution_count": null,
      "outputs": []
    }
  ]
}